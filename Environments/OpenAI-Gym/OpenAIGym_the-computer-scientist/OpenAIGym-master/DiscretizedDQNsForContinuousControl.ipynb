{
 "cells": [
  {
   "cell_type": "code",
   "execution_count": 8,
   "metadata": {
    "colab": {},
    "colab_type": "code",
    "id": "-578TXDLZF47"
   },
   "outputs": [],
   "source": [
    "# Run this to install tensorflow version 1.9\n",
    "# !pip install tensorflow==1.9"
   ]
  },
  {
   "cell_type": "code",
   "execution_count": 9,
   "metadata": {
    "colab": {
     "base_uri": "https://localhost:8080/",
     "height": 51
    },
    "colab_type": "code",
    "id": "HnA-Zf8JqsL4",
    "outputId": "70062eee-0733-4f72-b717-2aeec3d927b9"
   },
   "outputs": [
    {
     "name": "stdout",
     "output_type": "stream",
     "text": [
      "Gym: 0.10.11\n",
      "Tensorflow: 1.9.0\n"
     ]
    }
   ],
   "source": [
    "import gym\n",
    "import random\n",
    "import numpy as np\n",
    "import tensorflow as tf\n",
    "from collections import deque\n",
    "print(\"Gym:\", gym.__version__)\n",
    "print(\"Tensorflow:\", tf.__version__)"
   ]
  },
  {
   "cell_type": "code",
   "execution_count": 11,
   "metadata": {
    "colab": {},
    "colab_type": "code",
    "id": "79GCjcYYqsMG"
   },
   "outputs": [],
   "source": [
    "class QNetwork():\n",
    "    def __init__(self, state_dim, action_size, tau=0.01):\n",
    "        tf.reset_default_graph()\n",
    "        self.state_in = tf.placeholder(tf.float32, shape=[None, *state_dim])\n",
    "        self.action_in = tf.placeholder(tf.int32, shape=[None])\n",
    "        self.q_target_in = tf.placeholder(tf.float32, shape=[None])\n",
    "        self.importance_in = tf.placeholder(tf.float32, shape=[None])\n",
    "        action_one_hot = tf.one_hot(self.action_in, depth=action_size)\n",
    "        \n",
    "        self.q_state_local = self.build_model(action_size, \"local\")\n",
    "        self.q_state_target = self.build_model(action_size, \"target\")\n",
    "        \n",
    "        self.q_state_action = tf.reduce_sum(tf.multiply(self.q_state_local, action_one_hot), axis=1)\n",
    "        self.error = self.q_state_action - self.q_target_in\n",
    "        self.loss = tf.reduce_mean(tf.multiply(tf.square(self.error), self.importance_in))\n",
    "        self.optimizer = tf.train.AdamOptimizer(learning_rate=0.001).minimize(self.loss)\n",
    "        \n",
    "        self.local_vars = tf.get_collection(tf.GraphKeys.TRAINABLE_VARIABLES, scope=\"local\")\n",
    "        self.target_vars = tf.get_collection(tf.GraphKeys.TRAINABLE_VARIABLES, scope=\"target\")\n",
    "        self.updater = tf.group([tf.assign(t, t + tau*(l-t)) for t,l in zip(self.target_vars, self.local_vars)])\n",
    "        \n",
    "    def build_model(self, action_size, scope):\n",
    "        with tf.variable_scope(scope):\n",
    "            hidden1 = tf.layers.dense(self.state_in, 100, activation=tf.nn.relu)\n",
    "            q_state = tf.layers.dense(hidden1, action_size, activation=None)\n",
    "            return q_state\n",
    "        \n",
    "    def update_model(self, session, state, action, q_target, importance):\n",
    "        feed = {self.state_in: state, self.action_in: action, self.q_target_in: q_target, self.importance_in: importance}\n",
    "        error, _, _ = session.run([self.error, self.optimizer, self.updater], feed_dict=feed)\n",
    "        return error\n",
    "        \n",
    "    def get_q_state(self, session, state, use_target=False):\n",
    "        q_state_op = self.q_state_target if use_target else self.q_state_local\n",
    "        q_state = session.run(q_state_op, feed_dict={self.state_in: state})\n",
    "        return q_state"
   ]
  },
  {
   "cell_type": "code",
   "execution_count": 12,
   "metadata": {
    "colab": {},
    "colab_type": "code",
    "id": "EYKcRk3ZqsMJ"
   },
   "outputs": [],
   "source": [
    "class PrioritizedReplayBuffer():\n",
    "    def __init__(self, maxlen):\n",
    "        self.buffer = deque(maxlen=maxlen)\n",
    "        self.priorities = deque(maxlen=maxlen)\n",
    "        \n",
    "    def add(self, experience):\n",
    "        self.buffer.append(experience)\n",
    "        self.priorities.append(max(self.priorities, default=1))\n",
    "        \n",
    "    def get_probabilities(self, priority_scale):\n",
    "        scaled_priorities = np.array(self.priorities) ** priority_scale\n",
    "        sample_probabilities = scaled_priorities / sum(scaled_priorities)\n",
    "        return sample_probabilities\n",
    "    \n",
    "    def get_importance(self, probabilities):\n",
    "        importance = 1/len(self.buffer) * 1/probabilities\n",
    "        importance_normalized = importance / max(importance)\n",
    "        return importance_normalized\n",
    "        \n",
    "    def sample(self, batch_size, priority_scale=1.0):\n",
    "        sample_size = min(len(self.buffer), batch_size)\n",
    "        sample_probs = self.get_probabilities(priority_scale)\n",
    "        sample_indices = random.choices(range(len(self.buffer)), k=sample_size, weights=sample_probs)\n",
    "        samples = np.array(self.buffer)[sample_indices]\n",
    "        importance = self.get_importance(sample_probs[sample_indices])\n",
    "        return map(list, zip(*samples)), importance, sample_indices\n",
    "    \n",
    "    def set_priorities(self, indices, errors, offset=0.1):\n",
    "        for i,e in zip(indices, errors):\n",
    "            self.priorities[i] = abs(e) + offset"
   ]
  },
  {
   "cell_type": "code",
   "execution_count": 14,
   "metadata": {
    "colab": {},
    "colab_type": "code",
    "id": "XKIXlcQSqsMN"
   },
   "outputs": [],
   "source": [
    "class DoubleDQNAgent():\n",
    "    def __init__(self, env):\n",
    "        self.state_dim = env.observation_space.shape\n",
    "        self.action_size = env.action_space.n\n",
    "        self.q_network = QNetwork(self.state_dim, self.action_size)\n",
    "        self.replay_buffer = PrioritizedReplayBuffer(maxlen=100000)\n",
    "        self.gamma = 0.97\n",
    "        self.eps = 1.0\n",
    "        \n",
    "        self.sess = tf.Session()\n",
    "        self.sess.run(tf.global_variables_initializer())\n",
    "        \n",
    "    def get_action(self, state):\n",
    "        q_state = self.q_network.get_q_state(self.sess, [state])\n",
    "        action_greedy = np.argmax(q_state)\n",
    "        action_random = np.random.randint(self.action_size)\n",
    "        action = action_random if random.random() < self.eps else action_greedy\n",
    "        return action\n",
    "    \n",
    "    def get_env_action(self, action):\n",
    "        return action\n",
    "    \n",
    "    def train(self, state, action, next_state, reward, done, use_DDQN=True, a=0.0):\n",
    "        self.replay_buffer.add((state, action, next_state, reward, done))\n",
    "        (states, actions, next_states, rewards, dones), importance, indices = self.replay_buffer.sample(50, priority_scale=a)\n",
    "        \n",
    "        next_actions = np.argmax(self.q_network.get_q_state(self.sess, next_states, use_target=False), axis=1)\n",
    "        q_next_states = self.q_network.get_q_state(self.sess, next_states, use_target=use_DDQN)\n",
    "        q_next_states[dones] = np.zeros([self.action_size])\n",
    "        q_next_states_next_actions = q_next_states[np.arange(next_actions.shape[0]), next_actions]\n",
    "        q_targets = rewards + self.gamma * q_next_states_next_actions\n",
    "        errors = self.q_network.update_model(self.sess, states, actions, q_targets, importance**(1-self.eps))\n",
    "        \n",
    "        self.replay_buffer.set_priorities(indices, errors)\n",
    "        \n",
    "        if done: self.eps = max(0.1, 0.98*self.eps)\n",
    "    \n",
    "    def __del__(self):\n",
    "        self.sess.close()"
   ]
  },
  {
   "cell_type": "code",
   "execution_count": 22,
   "metadata": {},
   "outputs": [],
   "source": [
    "class DiscretizedDQNAgent(DoubleDQNAgent):\n",
    "    def __init__(self, env, n_actions=10):\n",
    "        self.is_discrete = type(env.action_space) == gym.spaces.discrete.Discrete\n",
    "        if not self.is_discrete:\n",
    "            env.action_space.n = n_actions\n",
    "            self.actions = np.linspace(env.action_space.low, env.action_space.high, n_actions)\n",
    "        super().__init__(env)\n",
    "        \n",
    "    def get_env_action(self, action):\n",
    "        if not self.is_discrete:\n",
    "            action = [self.actions[action]]\n",
    "        return action"
   ]
  },
  {
   "cell_type": "code",
   "execution_count": 30,
   "metadata": {
    "colab": {
     "base_uri": "https://localhost:8080/",
     "height": 51
    },
    "colab_type": "code",
    "id": "YHkYC1tmqsMB",
    "outputId": "c3abd168-27fc-4f2c-be25-18194375bd0d"
   },
   "outputs": [
    {
     "name": "stdout",
     "output_type": "stream",
     "text": [
      "Observation space: Box(6,)\n",
      "Action space: Discrete(3)\n"
     ]
    }
   ],
   "source": [
    "env_names = [\"CartPole-v0\",\n",
    "             \"MountainCar-v0\",\n",
    "             \"MountainCarContinuous-v0\",\n",
    "             \"Pendulum-v0\",\n",
    "             \"Acrobot-v1\"]\n",
    "env = gym.make(env_names[4])\n",
    "print(\"Observation space:\", env.observation_space)\n",
    "print(\"Action space:\", env.action_space)"
   ]
  },
  {
   "cell_type": "code",
   "execution_count": 33,
   "metadata": {
    "colab": {
     "base_uri": "https://localhost:8080/",
     "height": 187
    },
    "colab_type": "code",
    "id": "zv9Amjj4qsMQ",
    "outputId": "3e61344f-d87a-41e6-d28c-4ca3511ef4df"
   },
   "outputs": [
    {
     "name": "stdout",
     "output_type": "stream",
     "text": [
      "Run 0\n",
      "Episode: 0, total_reward: -500.00\n",
      "Episode: 1, total_reward: -500.00\n",
      "Episode: 2, total_reward: -500.00\n",
      "Episode: 3, total_reward: -500.00\n",
      "Episode: 4, total_reward: -500.00\n",
      "Episode: 5, total_reward: -500.00\n",
      "Episode: 6, total_reward: -472.00\n",
      "Episode: 7, total_reward: -500.00\n",
      "Episode: 8, total_reward: -500.00\n",
      "Episode: 9, total_reward: -500.00\n",
      "Episode: 10, total_reward: -500.00\n",
      "Episode: 11, total_reward: -500.00\n",
      "Episode: 12, total_reward: -446.00\n",
      "Episode: 13, total_reward: -500.00\n",
      "Episode: 14, total_reward: -500.00\n",
      "Episode: 15, total_reward: -367.00\n",
      "Episode: 16, total_reward: -500.00\n",
      "Episode: 17, total_reward: -469.00\n",
      "Episode: 18, total_reward: -434.00\n",
      "Episode: 19, total_reward: -500.00\n",
      "Episode: 20, total_reward: -500.00\n",
      "Episode: 21, total_reward: -500.00\n",
      "Episode: 22, total_reward: -322.00\n",
      "Episode: 23, total_reward: -171.00\n",
      "Episode: 24, total_reward: -294.00\n",
      "Episode: 25, total_reward: -308.00\n",
      "Episode: 26, total_reward: -322.00\n",
      "Episode: 27, total_reward: -384.00\n",
      "Episode: 28, total_reward: -375.00\n",
      "Episode: 29, total_reward: -422.00\n",
      "Episode: 30, total_reward: -373.00\n",
      "Episode: 31, total_reward: -500.00\n",
      "Episode: 32, total_reward: -256.00\n",
      "Episode: 33, total_reward: -293.00\n",
      "Episode: 34, total_reward: -243.00\n",
      "Episode: 35, total_reward: -219.00\n",
      "Episode: 36, total_reward: -210.00\n",
      "Episode: 37, total_reward: -156.00\n",
      "Episode: 38, total_reward: -186.00\n",
      "Episode: 39, total_reward: -500.00\n",
      "Episode: 40, total_reward: -261.00\n",
      "Episode: 41, total_reward: -188.00\n",
      "Episode: 42, total_reward: -242.00\n",
      "Episode: 43, total_reward: -234.00\n",
      "Episode: 44, total_reward: -198.00\n",
      "Episode: 45, total_reward: -207.00\n",
      "Episode: 46, total_reward: -137.00\n",
      "Episode: 47, total_reward: -140.00\n",
      "Episode: 48, total_reward: -130.00\n",
      "Episode: 49, total_reward: -135.00\n",
      "Episode: 50, total_reward: -199.00\n",
      "Episode: 51, total_reward: -132.00\n",
      "Episode: 52, total_reward: -456.00\n",
      "Episode: 53, total_reward: -244.00\n",
      "Episode: 54, total_reward: -123.00\n",
      "Episode: 55, total_reward: -165.00\n",
      "Episode: 56, total_reward: -257.00\n",
      "Episode: 57, total_reward: -156.00\n",
      "Episode: 58, total_reward: -148.00\n",
      "Episode: 59, total_reward: -132.00\n",
      "Episode: 60, total_reward: -155.00\n",
      "Episode: 61, total_reward: -160.00\n",
      "Episode: 62, total_reward: -94.00\n",
      "Episode: 63, total_reward: -147.00\n",
      "Episode: 64, total_reward: -100.00\n",
      "Episode: 65, total_reward: -109.00\n",
      "Episode: 66, total_reward: -161.00\n",
      "Episode: 67, total_reward: -149.00\n",
      "Episode: 68, total_reward: -105.00\n",
      "Episode: 69, total_reward: -101.00\n",
      "Episode: 70, total_reward: -118.00\n",
      "Episode: 71, total_reward: -124.00\n",
      "Episode: 72, total_reward: -157.00\n",
      "Episode: 73, total_reward: -127.00\n",
      "Episode: 74, total_reward: -178.00\n",
      "Episode: 75, total_reward: -119.00\n",
      "Episode: 76, total_reward: -144.00\n",
      "Episode: 77, total_reward: -145.00\n",
      "Episode: 78, total_reward: -133.00\n",
      "Episode: 79, total_reward: -138.00\n",
      "Episode: 80, total_reward: -151.00\n",
      "Episode: 81, total_reward: -98.00\n",
      "Episode: 82, total_reward: -108.00\n",
      "Episode: 83, total_reward: -110.00\n",
      "Episode: 84, total_reward: -128.00\n",
      "Episode: 85, total_reward: -156.00\n",
      "Episode: 86, total_reward: -105.00\n",
      "Episode: 87, total_reward: -152.00\n",
      "Episode: 88, total_reward: -88.00\n",
      "Episode: 89, total_reward: -122.00\n",
      "Episode: 90, total_reward: -180.00\n",
      "Episode: 91, total_reward: -102.00\n",
      "Episode: 92, total_reward: -130.00\n",
      "Episode: 93, total_reward: -101.00\n",
      "Episode: 94, total_reward: -83.00\n",
      "Episode: 95, total_reward: -115.00\n",
      "Episode: 96, total_reward: -103.00\n",
      "Episode: 97, total_reward: -124.00\n",
      "Episode: 98, total_reward: -146.00\n",
      "Episode: 99, total_reward: -100.00\n"
     ]
    }
   ],
   "source": [
    "num_runs = 1\n",
    "run_rewards = []\n",
    "\n",
    "for n in range(num_runs):\n",
    "    print(\"Run {}\".format(n))\n",
    "    ep_rewards = []\n",
    "    agent = None\n",
    "    agent = DiscretizedDQNAgent(env)\n",
    "    num_episodes = 100\n",
    "\n",
    "    for ep in range(num_episodes):\n",
    "        state = env.reset()\n",
    "        total_reward = 0\n",
    "        done = False\n",
    "        while not done:\n",
    "            action = agent.get_action(state)\n",
    "            next_state, reward, done, info = env.step(agent.get_env_action(action))\n",
    "            agent.train(state, action, next_state, reward, done, a=0.7)\n",
    "            env.render()\n",
    "            total_reward += reward\n",
    "            state = next_state\n",
    "\n",
    "        ep_rewards.append(total_reward)\n",
    "        print(\"Episode: {}, total_reward: {:.2f}\".format(ep, total_reward))\n",
    "        \n",
    "    run_rewards.append(ep_rewards)"
   ]
  },
  {
   "cell_type": "code",
   "execution_count": 34,
   "metadata": {
    "colab": {
     "base_uri": "https://localhost:8080/",
     "height": 311
    },
    "colab_type": "code",
    "id": "JU1OmrO0uHpO",
    "outputId": "d8cb4c76-6112-4327-f334-6e9669e0b990"
   },
   "outputs": [
    {
     "data": {
      "text/plain": [
       "<matplotlib.legend.Legend at 0xb249ce860>"
      ]
     },
     "execution_count": 34,
     "metadata": {},
     "output_type": "execute_result"
    },
    {
     "data": {
      "image/png": "[encoded data removed]",
      "text/plain": [
       "<Figure size 432x288 with 1 Axes>"
      ]
     },
     "metadata": {},
     "output_type": "display_data"
    }
   ],
   "source": [
    "import matplotlib.pyplot as plt\n",
    "%matplotlib inline\n",
    "\n",
    "for n, ep_rewards in enumerate(run_rewards):\n",
    "    x = range(len(ep_rewards))\n",
    "    cumsum = np.cumsum(ep_rewards)\n",
    "    avgs = [cumsum[ep]/(ep+1) if ep<100 else (cumsum[ep]-cumsum[ep-100])/100 for ep in x]\n",
    "    plt.plot(x, avgs, label=env_names[n])\n",
    "    \n",
    "plt.title(\"5 Environment performance\")\n",
    "plt.xlabel(\"Episode\")\n",
    "plt.ylabel(\"Last 100 episode average rewards\")\n",
    "plt.legend()"
   ]
  },
  {
   "cell_type": "code",
   "execution_count": 32,
   "metadata": {
    "colab": {},
    "colab_type": "code",
    "id": "_UBHQMHzqsMU"
   },
   "outputs": [],
   "source": [
    "env.close()"
   ]
  }
 ],
 "metadata": {
  "colab": {
   "name": "PrioritizedExperienceReplayInOpenAIGym.ipynb",
   "provenance": [],
   "version": "0.3.2"
  },
  "kernelspec": {
   "display_name": "Python 3",
   "language": "python",
   "name": "python3"
  },
  "language_info": {
   "codemirror_mode": {
    "name": "ipython",
    "version": 3
   },
   "file_extension": ".py",
   "mimetype": "text/x-python",
   "name": "python",
   "nbconvert_exporter": "python",
   "pygments_lexer": "ipython3",
   "version": "3.6.5"
  }
 },
 "nbformat": 4,
 "nbformat_minor": 1
}
