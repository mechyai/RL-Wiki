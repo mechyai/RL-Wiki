{
  "nbformat": 4,
  "nbformat_minor": 0,
  "metadata": {
    "colab": {
      "name": "PrioritizedExperienceReplayInOpenAIGym.ipynb",
      "version": "0.3.2",
      "provenance": []
    },
    "kernelspec": {
      "display_name": "Python 3",
      "language": "python",
      "name": "python3"
    }
  },
  "cells": [
    {
      "metadata": {
        "id": "-578TXDLZF47",
        "colab_type": "code",
        "colab": {}
      },
      "cell_type": "code",
      "source": [
        "# Run this to install tensorflow version 1.9\n",
        "!pip install tensorflow==1.9"
      ],
      "execution_count": 0,
      "outputs": []
    },
    {
      "metadata": {
        "id": "HnA-Zf8JqsL4",
        "colab_type": "code",
        "outputId": "70062eee-0733-4f72-b717-2aeec3d927b9",
        "colab": {
          "base_uri": "https://localhost:8080/",
          "height": 51
        }
      },
      "cell_type": "code",
      "source": [
        "import gym\n",
        "import random\n",
        "import numpy as np\n",
        "import tensorflow as tf\n",
        "from collections import deque\n",
        "print(\"Gym:\", gym.__version__)\n",
        "print(\"Tensorflow:\", tf.__version__)"
      ],
      "execution_count": 2,
      "outputs": [
        {
          "output_type": "stream",
          "text": [
            "Gym: 0.10.11\n",
            "Tensorflow: 1.9.0\n"
          ],
          "name": "stdout"
        }
      ]
    },
    {
      "metadata": {
        "id": "YHkYC1tmqsMB",
        "colab_type": "code",
        "outputId": "c3abd168-27fc-4f2c-be25-18194375bd0d",
        "colab": {
          "base_uri": "https://localhost:8080/",
          "height": 51
        }
      },
      "cell_type": "code",
      "source": [
        "env_name = \"CartPole-v0\"\n",
        "env = gym.make(env_name)\n",
        "print(\"Observation space:\", env.observation_space)\n",
        "print(\"Action space:\", env.action_space)"
      ],
      "execution_count": 3,
      "outputs": [
        {
          "output_type": "stream",
          "text": [
            "Observation space: Box(4,)\n",
            "Action space: Discrete(2)\n"
          ],
          "name": "stdout"
        }
      ]
    },
    {
      "metadata": {
        "id": "79GCjcYYqsMG",
        "colab_type": "code",
        "colab": {}
      },
      "cell_type": "code",
      "source": [
        "class QNetwork():\n",
        "    def __init__(self, state_dim, action_size, tau=0.01):\n",
        "        tf.reset_default_graph()\n",
        "        self.state_in = tf.placeholder(tf.float32, shape=[None, *state_dim])\n",
        "        self.action_in = tf.placeholder(tf.int32, shape=[None])\n",
        "        self.q_target_in = tf.placeholder(tf.float32, shape=[None])\n",
        "        self.importance_in = tf.placeholder(tf.float32, shape=[None])\n",
        "        action_one_hot = tf.one_hot(self.action_in, depth=action_size)\n",
        "        \n",
        "        self.q_state_local = self.build_model(action_size, \"local\")\n",
        "        self.q_state_target = self.build_model(action_size, \"target\")\n",
        "        \n",
        "        self.q_state_action = tf.reduce_sum(tf.multiply(self.q_state_local, action_one_hot), axis=1)\n",
        "        self.error = self.q_state_action - self.q_target_in\n",
        "        self.loss = tf.reduce_mean(tf.multiply(tf.square(self.error), self.importance_in))\n",
        "        self.optimizer = tf.train.AdamOptimizer(learning_rate=0.001).minimize(self.loss)\n",
        "        \n",
        "        self.local_vars = tf.get_collection(tf.GraphKeys.TRAINABLE_VARIABLES, scope=\"local\")\n",
        "        self.target_vars = tf.get_collection(tf.GraphKeys.TRAINABLE_VARIABLES, scope=\"target\")\n",
        "        self.updater = tf.group([tf.assign(t, t + tau*(l-t)) for t,l in zip(self.target_vars, self.local_vars)])\n",
        "        \n",
        "    def build_model(self, action_size, scope):\n",
        "        with tf.variable_scope(scope):\n",
        "            hidden1 = tf.layers.dense(self.state_in, 100, activation=tf.nn.relu)\n",
        "            q_state = tf.layers.dense(hidden1, action_size, activation=None)\n",
        "            return q_state\n",
        "        \n",
        "    def update_model(self, session, state, action, q_target, importance):\n",
        "        feed = {self.state_in: state, self.action_in: action, self.q_target_in: q_target, self.importance_in: importance}\n",
        "        error, _, _ = session.run([self.error, self.optimizer, self.updater], feed_dict=feed)\n",
        "        return error\n",
        "        \n",
        "    def get_q_state(self, session, state, use_target=False):\n",
        "        q_state_op = self.q_state_target if use_target else self.q_state_local\n",
        "        q_state = session.run(q_state_op, feed_dict={self.state_in: state})\n",
        "        return q_state"
      ],
      "execution_count": 0,
      "outputs": []
    },
    {
      "metadata": {
        "id": "EYKcRk3ZqsMJ",
        "colab_type": "code",
        "colab": {}
      },
      "cell_type": "code",
      "source": [
        "class PrioritizedReplayBuffer():\n",
        "    def __init__(self, maxlen):\n",
        "        self.buffer = deque(maxlen=maxlen)\n",
        "        self.priorities = deque(maxlen=maxlen)\n",
        "        \n",
        "    def add(self, experience):\n",
        "        self.buffer.append(experience)\n",
        "        self.priorities.append(max(self.priorities, default=1))\n",
        "        \n",
        "    def get_probabilities(self, priority_scale):\n",
        "        scaled_priorities = np.array(self.priorities) ** priority_scale\n",
        "        sample_probabilities = scaled_priorities / sum(scaled_priorities)\n",
        "        return sample_probabilities\n",
        "    \n",
        "    def get_importance(self, probabilities):\n",
        "        importance = 1/len(self.buffer) * 1/probabilities\n",
        "        importance_normalized = importance / max(importance)\n",
        "        return importance_normalized\n",
        "        \n",
        "    def sample(self, batch_size, priority_scale=1.0):\n",
        "        sample_size = min(len(self.buffer), batch_size)\n",
        "        sample_probs = self.get_probabilities(priority_scale)\n",
        "        sample_indices = random.choices(range(len(self.buffer)), k=sample_size, weights=sample_probs)\n",
        "        samples = np.array(self.buffer)[sample_indices]\n",
        "        importance = self.get_importance(sample_probs[sample_indices])\n",
        "        return map(list, zip(*samples)), importance, sample_indices\n",
        "    \n",
        "    def set_priorities(self, indices, errors, offset=0.1):\n",
        "        for i,e in zip(indices, errors):\n",
        "            self.priorities[i] = abs(e) + offset"
      ],
      "execution_count": 0,
      "outputs": []
    },
    {
      "metadata": {
        "id": "XKIXlcQSqsMN",
        "colab_type": "code",
        "colab": {}
      },
      "cell_type": "code",
      "source": [
        "class DoubleDQNAgent():\n",
        "    def __init__(self, env):\n",
        "        self.state_dim = env.observation_space.shape\n",
        "        self.action_size = env.action_space.n\n",
        "        self.q_network = QNetwork(self.state_dim, self.action_size)\n",
        "        self.replay_buffer = PrioritizedReplayBuffer(maxlen=100000)\n",
        "        self.gamma = 0.97\n",
        "        self.eps = 1.0\n",
        "        \n",
        "        self.sess = tf.Session()\n",
        "        self.sess.run(tf.global_variables_initializer())\n",
        "        \n",
        "    def get_action(self, state):\n",
        "        q_state = self.q_network.get_q_state(self.sess, [state])\n",
        "        action_greedy = np.argmax(q_state)\n",
        "        action_random = np.random.randint(self.action_size)\n",
        "        action = action_random if random.random() < self.eps else action_greedy\n",
        "        return action\n",
        "    \n",
        "    def train(self, state, action, next_state, reward, done, use_DDQN=True, a=0.0):\n",
        "        self.replay_buffer.add((state, action, next_state, reward, done))\n",
        "        (states, actions, next_states, rewards, dones), importance, indices = self.replay_buffer.sample(50, priority_scale=a)\n",
        "        \n",
        "        next_actions = np.argmax(self.q_network.get_q_state(self.sess, next_states, use_target=False), axis=1)\n",
        "        q_next_states = self.q_network.get_q_state(self.sess, next_states, use_target=use_DDQN)\n",
        "        q_next_states[dones] = np.zeros([self.action_size])\n",
        "        q_next_states_next_actions = q_next_states[np.arange(next_actions.shape[0]), next_actions]\n",
        "        q_targets = rewards + self.gamma * q_next_states_next_actions\n",
        "        errors = self.q_network.update_model(self.sess, states, actions, q_targets, importance**(1-self.eps))\n",
        "        \n",
        "        self.replay_buffer.set_priorities(indices, errors)\n",
        "        \n",
        "        if done: self.eps = max(0.1, 0.99*self.eps)\n",
        "    \n",
        "    def __del__(self):\n",
        "        self.sess.close()"
      ],
      "execution_count": 0,
      "outputs": []
    },
    {
      "metadata": {
        "id": "zv9Amjj4qsMQ",
        "colab_type": "code",
        "outputId": "3e61344f-d87a-41e6-d28c-4ca3511ef4df",
        "colab": {
          "base_uri": "https://localhost:8080/",
          "height": 187
        }
      },
      "cell_type": "code",
      "source": [
        "num_runs = 10\n",
        "run_rewards = []\n",
        "\n",
        "for n in range(num_runs):\n",
        "    print(\"Run {}\".format(n))\n",
        "    ep_rewards = []\n",
        "    agent = None\n",
        "    agent = DoubleDQNAgent(env)\n",
        "    num_episodes = 200\n",
        "\n",
        "    for ep in range(num_episodes):\n",
        "        state = env.reset()\n",
        "        total_reward = 0\n",
        "        done = False\n",
        "        while not done:\n",
        "            action = agent.get_action(state)\n",
        "            next_state, reward, done, info = env.step(action)\n",
        "            agent.train(state, action, next_state, reward, done, a=(n%2==0)*0.7)\n",
        "            #env.render()\n",
        "            total_reward += reward\n",
        "            state = next_state\n",
        "\n",
        "        ep_rewards.append(total_reward)\n",
        "        #print(\"Episode: {}, total_reward: {:.2f}\".format(ep, total_reward))\n",
        "        \n",
        "    run_rewards.append(ep_rewards)"
      ],
      "execution_count": 8,
      "outputs": [
        {
          "output_type": "stream",
          "text": [
            "Run 0\n",
            "Run 1\n",
            "Run 2\n",
            "Run 3\n",
            "Run 4\n",
            "Run 5\n",
            "Run 6\n",
            "Run 7\n",
            "Run 8\n",
            "Run 9\n"
          ],
          "name": "stdout"
        }
      ]
    },
    {
      "metadata": {
        "id": "JU1OmrO0uHpO",
        "colab_type": "code",
        "outputId": "d8cb4c76-6112-4327-f334-6e9669e0b990",
        "colab": {
          "base_uri": "https://localhost:8080/",
          "height": 311
        }
      },
      "cell_type": "code",
      "source": [
        "import matplotlib.pyplot as plt\n",
        "%matplotlib inline\n",
        "\n",
        "for n, ep_rewards in enumerate(run_rewards):\n",
        "    x = range(len(ep_rewards))\n",
        "    cumsum = np.cumsum(ep_rewards)\n",
        "    avgs = [cumsum[ep]/(ep+1) if ep<100 else (cumsum[ep]-cumsum[ep-100])/100 for ep in x]\n",
        "    col = \"r\" if (n%2==0) else \"b\"\n",
        "    plt.plot(x, avgs, color=col, label=n)\n",
        "    \n",
        "plt.title(\"Prioritized Replay performance\")\n",
        "plt.xlabel(\"Episode\")\n",
        "plt.ylabel(\"Last 100 episode average rewards\")\n",
        "plt.legend()"
      ],
      "execution_count": 9,
      "outputs": [
        {
          "output_type": "execute_result",
          "data": {
            "text/plain": [
              "<matplotlib.legend.Legend at 0x7f52d2b3e5c0>"
            ]
          },
          "metadata": {
            "tags": []
          },
          "execution_count": 9
        },
        {
          "output_type": "display_data",
          "data": {
            "image/png": "[encoded data removed]",
            "text/plain": [
              "<Figure size 432x288 with 1 Axes>"
            ]
          },
          "metadata": {
            "tags": []
          }
        }
      ]
    },
    {
      "metadata": {
        "id": "_UBHQMHzqsMU",
        "colab_type": "code",
        "colab": {}
      },
      "cell_type": "code",
      "source": [
        "env.close()"
      ],
      "execution_count": 0,
      "outputs": []
    }
  ]
}