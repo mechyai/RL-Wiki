{
 "cells": [
  {
   "cell_type": "code",
   "execution_count": 1,
   "metadata": {
    "colab": {},
    "colab_type": "code",
    "id": "-578TXDLZF47"
   },
   "outputs": [],
   "source": [
    "# Run this to install tensorflow version 1.9\n",
    "# !pip install -q tensorflow==1.9\n",
    "# Make sure you RESTART RUNTIME (Runtime->Restart Runtime) after running this"
   ]
  },
  {
   "cell_type": "code",
   "execution_count": 2,
   "metadata": {
    "colab": {
     "base_uri": "https://localhost:8080/",
     "height": 51
    },
    "colab_type": "code",
    "id": "HnA-Zf8JqsL4",
    "outputId": "f1b799cb-e735-4c19-e59d-254b99c627d5"
   },
   "outputs": [
    {
     "name": "stdout",
     "output_type": "stream",
     "text": [
      "Gym: 0.10.11\n"
     ]
    }
   ],
   "source": [
    "import gym\n",
    "import random\n",
    "import numpy as np\n",
    "print(\"Gym:\", gym.__version__)"
   ]
  },
  {
   "cell_type": "code",
   "execution_count": 3,
   "metadata": {
    "colab": {
     "base_uri": "https://localhost:8080/",
     "height": 51
    },
    "colab_type": "code",
    "id": "YHkYC1tmqsMB",
    "outputId": "27b9c0d6-bc0f-426c-9bdb-b791aba2a60e"
   },
   "outputs": [
    {
     "name": "stdout",
     "output_type": "stream",
     "text": [
      "Observation space: Box(3,)\n",
      "Action space: Box(1,)\n"
     ]
    }
   ],
   "source": [
    "env_name = \"Pendulum-v0\"\n",
    "# env_name = \"MountainCarContinuous-v0\"\n",
    "# env_name = \"LunarLanderContinuous-v2\"\n",
    "env = gym.make(env_name)\n",
    "print(\"Observation space:\", env.observation_space)\n",
    "print(\"Action space:\", env.action_space)"
   ]
  },
  {
   "cell_type": "markdown",
   "metadata": {},
   "source": [
    "#### Tensorflow QNetwork\n",
    "\n",
    "Below is the implementation of an Actor Critic network using tensorflow as the backend model. This contains a tensorflow session and after initially building the network graph, it is trained by running the optimizer with the state, action for accessing the action and q values and the next_state, reward and done for calculating the q_target values for training."
   ]
  },
  {
   "cell_type": "code",
   "execution_count": 5,
   "metadata": {
    "colab": {},
    "colab_type": "code",
    "id": "79GCjcYYqsMG"
   },
   "outputs": [
    {
     "name": "stdout",
     "output_type": "stream",
     "text": [
      "Tensorflow: 1.9.0\n"
     ]
    }
   ],
   "source": [
    "import tensorflow as tf\n",
    "print(\"Tensorflow:\", tf.__version__)\n",
    "\n",
    "class TFACNetwork():\n",
    "    def __init__(self, state_size, action_size, action_range):\n",
    "        tf.reset_default_graph()\n",
    "        self.state_in = tf.placeholder(tf.float32, shape=[None, state_size])\n",
    "        self.action_in = tf.placeholder(tf.float32, shape=[None, action_size])\n",
    "        self.next_state_in = tf.placeholder(tf.float32, shape=[None, state_size])\n",
    "        self.reward_in = tf.placeholder(tf.float32, shape=[None])\n",
    "        self.done_in = tf.placeholder(tf.float32, shape=[None])\n",
    "\n",
    "        self.action_low, self.action_high = action_range\n",
    "        self.actor_local = self.build_actor(action_size, scope=\"actor_local\")\n",
    "        self.actor_target = self.build_actor(action_size, scope=\"actor_target\")\n",
    "        self.critic_local = self.build_critic(self.state_in, self.action_in, scope=\"critic_local\")\n",
    "        self.critic_target = self.build_critic(self.next_state_in, self.actor_target, scope=\"critic_target\")\n",
    "\n",
    "        self.optimizer = self.build_optimizer()\n",
    "        self.updater = self.build_updater()\n",
    "        \n",
    "        self.sess = tf.Session()\n",
    "        self.sess.run(tf.global_variables_initializer())\n",
    "          \n",
    "    def build_actor(self, action_size, scope=None):\n",
    "        with tf.variable_scope(scope):\n",
    "            layer1 = tf.layers.dense(self.state_in, 100, activation=tf.nn.relu)\n",
    "            layer2 = tf.layers.dense(layer1, 100, activation=tf.nn.relu)\n",
    "            layer3 = tf.layers.dense(layer2, 100, activation=tf.nn.relu)\n",
    "            action_raw = tf.layers.dense(layer3, action_size, activation=None)\n",
    "            action_scaled = self.action_low + (self.action_high - self.action_low) * tf.nn.sigmoid(action_raw)\n",
    "            return action_scaled\n",
    "\n",
    "    def build_critic(self, state, action, scope=None, reuse=False):\n",
    "        with tf.variable_scope(scope):\n",
    "            net_state = tf.layers.dense(state, 100, activation=tf.nn.relu, reuse=reuse, name=\"critic1\")\n",
    "            net_action = tf.layers.dense(action, 100, activation=tf.nn.relu, reuse=reuse, name=\"critic2\")\n",
    "            net_state_action = tf.concat([net_state, net_action], axis=1)\n",
    "            net_layer = tf.layers.dense(net_state_action, 100, activation=tf.nn.relu, reuse=reuse, name=\"critic3\")\n",
    "            q_value = tf.layers.dense(net_layer, 1, activation=None, reuse=reuse, name=\"critic4\")\n",
    "            return q_value\n",
    "        \n",
    "    def build_updater(self, tau=0.01):\n",
    "        actor_update_ops = [tf.assign(t, t+tau*(l-t)) for l,t in zip(self.get_vars(\"actor_local\"), self.get_vars(\"actor_target\"))]\n",
    "        critic_update_ops = [tf.assign(t, t+tau*(l-t)) for l,t in zip(self.get_vars(\"critic_local\"), self.get_vars(\"critic_target\"))]\n",
    "        updater = tf.group(*actor_update_ops, *critic_update_ops)\n",
    "        return updater\n",
    "        \n",
    "    def build_optimizer(self, learn_rate=0.00025, gamma=0.97):\n",
    "        rewards = tf.expand_dims(self.reward_in, axis=1)\n",
    "        dones = tf.expand_dims(self.done_in, axis=1)\n",
    "        q_targets = rewards + gamma * self.critic_target * (1-dones)\n",
    "        critic_error = q_targets - self.critic_local\n",
    "        critic_loss = tf.reduce_mean(tf.square(critic_error))\n",
    "        critic_optimizer = tf.train.AdamOptimizer(learn_rate).minimize(critic_loss, var_list=self.get_vars(\"critic_local\"))\n",
    "        \n",
    "        actor_trainer = self.build_critic(self.state_in, self.actor_local, scope=\"critic_local\", reuse=True)\n",
    "        actor_gain = tf.reduce_mean(actor_trainer - self.critic_local)\n",
    "        actor_optimizer = tf.train.AdamOptimizer(learn_rate).minimize(-actor_gain, var_list=self.get_vars(\"actor_local\"))\n",
    "        \n",
    "        optimizer = tf.group(actor_optimizer, critic_optimizer)\n",
    "        return optimizer\n",
    "        \n",
    "    def get_vars(self, scope):\n",
    "        return tf.get_collection(tf.GraphKeys.TRAINABLE_VARIABLES, scope=scope)\n",
    "    \n",
    "    def update_model(self, state, action, next_state, reward, done):\n",
    "        feed = {self.state_in: state, self.action_in: action, self.next_state_in: next_state, self.reward_in: reward, self.done_in: done}\n",
    "        self.sess.run([self.optimizer, self.updater], feed_dict=feed)\n",
    "        \n",
    "    def get_action(self, state):\n",
    "        action = self.sess.run(self.actor_local, feed_dict={self.state_in: state})\n",
    "        return action\n",
    "    \n",
    "    def __del__(self):\n",
    "        self.sess.close()"
   ]
  },
  {
   "cell_type": "markdown",
   "metadata": {},
   "source": [
    "#### Pytorch QNetwork\n",
    "\n",
    "Below is the implementation of an Actor Critic network using pytorch as the backend model. This involves first defining a Model class for both the Actor and Critic which subclasses the pytorch nn.Module class and then defines the network graph which can be run with the forward function.\n",
    "\n",
    "Then the Model is included in an enclosing PTQNetwork class which trains the model by taking in the states and running the Model class to get the q values which are then indexed by the actions and then the gradients are calculated from the MSE loss between the predicted q value and the q_target."
   ]
  },
  {
   "cell_type": "code",
   "execution_count": 14,
   "metadata": {},
   "outputs": [
    {
     "name": "stdout",
     "output_type": "stream",
     "text": [
      "Torch: 1.0.1.post2\n"
     ]
    }
   ],
   "source": [
    "import torch\n",
    "import torch.nn as nn\n",
    "import torch.nn.functional as F\n",
    "import torch.optim as optim\n",
    "print(\"Torch:\", torch.__version__)\n",
    "\n",
    "class Actor(nn.Module):\n",
    "    def __init__(self, state_size, action_size, action_range):\n",
    "        super().__init__()\n",
    "        self.action_low, self.action_high = torch.from_numpy(np.array(action_range))\n",
    "        self.layer1 = nn.Linear(state_size, 100)\n",
    "        self.layer2 = nn.Linear(100, 100)\n",
    "        self.layer3 = nn.Linear(100, 100)\n",
    "        self.action = nn.Linear(100, action_size)\n",
    "\n",
    "    def forward(self, state):\n",
    "        layer1 = F.relu(self.layer1(state))\n",
    "        layer2 = F.relu(self.layer2(layer1))\n",
    "        layer3 = F.relu(self.layer3(layer1))\n",
    "        action = torch.sigmoid(self.action(layer3))\n",
    "        return self.action_low + (self.action_high-self.action_low)*action\n",
    "    \n",
    "class Critic(nn.Module):\n",
    "    def __init__(self, state_size, action_size):\n",
    "        super().__init__()\n",
    "        self.net_state = nn.Linear(state_size, 100)\n",
    "        self.net_action = nn.Linear(action_size, 100)\n",
    "        self.net_layer = nn.Linear(200, 100)\n",
    "        self.q_value = nn.Linear(100, 1)\n",
    "\n",
    "    def forward(self, state, action):\n",
    "        net_state = F.relu(self.net_state(state))\n",
    "        net_action = F.relu(self.net_action(action))\n",
    "        net_state_action = torch.cat([net_state, net_action], dim=1)\n",
    "        net_layer = F.relu(self.net_layer(net_state_action))\n",
    "        q_value = self.q_value(net_layer)\n",
    "        return q_value\n",
    "\n",
    "class PTACNetwork():\n",
    "    def __init__(self, state_size, action_size, action_range): \n",
    "        self.actor_local = Actor(state_size, action_size, action_range)\n",
    "        self.actor_target = Actor(state_size, action_size, action_range)\n",
    "        self.actor_optimizer = optim.Adam(self.actor_local.parameters(), lr=0.00025)\n",
    "        \n",
    "        self.critic_local = Critic(state_size, action_size)\n",
    "        self.critic_target = Critic(state_size, action_size)\n",
    "        self.critic_optimizer = optim.Adam(self.critic_local.parameters(), lr=0.00025)\n",
    "        \n",
    "    def get_action(self, state):\n",
    "        state = torch.from_numpy(np.array(state)).float()\n",
    "        action = self.actor_local(state).detach().numpy()\n",
    "        return action\n",
    "    \n",
    "    def update_model(self, state, action, next_state, reward, done, gamma=0.97):\n",
    "        states = torch.from_numpy(np.vstack(state)).float()\n",
    "        actions = torch.from_numpy(np.vstack(action)).float()\n",
    "        next_states = torch.from_numpy(np.vstack(next_state)).float()\n",
    "        rewards = torch.from_numpy(np.vstack(reward)).float()\n",
    "        dones = torch.from_numpy(np.vstack(done)).float()\n",
    "        next_actions = self.actor_local(next_states)\n",
    "        \n",
    "        q_targets = rewards + gamma * self.critic_target(next_states, next_actions).detach() * (1-dones)\n",
    "        critic_loss = F.mse_loss(self.critic_local(states, actions), q_targets)\n",
    "        self.critic_optimizer.zero_grad()\n",
    "        critic_loss.backward()\n",
    "        self.critic_optimizer.step()\n",
    "        \n",
    "        q_baseline = self.critic_local(states, actions).detach()\n",
    "        actor_gain = -(self.critic_local(states, self.actor_local(states)) - q_baseline)\n",
    "        self.actor_optimizer.zero_grad()\n",
    "        actor_gain.mean().backward()\n",
    "        self.actor_optimizer.step()\n",
    "        \n",
    "        self.soft_copy(self.actor_local, self.actor_target)\n",
    "        self.soft_copy(self.critic_local, self.critic_target)\n",
    "        \n",
    "    def soft_copy(self, local, target, tau=0.01):\n",
    "        for t,l in zip(target.parameters(), local.parameters()):\n",
    "            t.data.copy_(t.data + tau*(l.data - t.data))"
   ]
  },
  {
   "cell_type": "markdown",
   "metadata": {},
   "source": [
    "#### Experience Replay\n",
    "Below is the implementation of a Replay Buffer using the deque collection as the rolling buffer of experience tuples. This can be sampled by specifying the sample size and then returns each individual experience type as separate lists."
   ]
  },
  {
   "cell_type": "code",
   "execution_count": 7,
   "metadata": {
    "colab": {},
    "colab_type": "code",
    "id": "EYKcRk3ZqsMJ"
   },
   "outputs": [],
   "source": [
    "from collections import deque\n",
    "import random\n",
    "\n",
    "class ReplayBuffer():\n",
    "    def __init__(self, maxlen):\n",
    "        self.buffer = deque(maxlen=maxlen)\n",
    "        \n",
    "    def add(self, experience):\n",
    "        self.buffer.append(experience)\n",
    "        \n",
    "    def sample(self, batch_size):\n",
    "        sample_size = min(len(self.buffer), batch_size)\n",
    "        samples = random.choices(self.buffer, k=sample_size)\n",
    "        return map(list, zip(*samples))"
   ]
  },
  {
   "cell_type": "markdown",
   "metadata": {},
   "source": [
    "#### Exploration Noise\n",
    "Below is the noise process class for exploration of continuous action spaces where noise applied to the action vector varies randomly with inertia from the previous time step."
   ]
  },
  {
   "cell_type": "code",
   "execution_count": 8,
   "metadata": {},
   "outputs": [],
   "source": [
    "class OUNoise():\n",
    "    def __init__(self, size, scale, mu=0.0, sigma=0.4, theta=0.15, decay=0.99):\n",
    "        self.noise = np.zeros(size)\n",
    "        self.size = size\n",
    "        self.scale = scale\n",
    "        self.mu = mu\n",
    "        self.sigma = sigma\n",
    "        self.theta = theta\n",
    "        self.decay = decay\n",
    "    \n",
    "    def reset(self):\n",
    "        self.noise = np.zeros(self.size)\n",
    "        self.scale *= self.decay\n",
    "        \n",
    "    def sample(self):\n",
    "        sample = self.theta * (self.mu - self.noise) + self.sigma * np.random.randn(self.size)\n",
    "        self.noise = sample * self.scale\n",
    "        return self.noise"
   ]
  },
  {
   "cell_type": "markdown",
   "metadata": {},
   "source": [
    "#### Agent\n",
    "Below is the implementation of the agent that uses Deep Actor Critic networks to learn the best action for a given state such that it achieves a reward is better than the critic's estimated value of it. It selects an action from the actor model which then explores by adding a noise process to it which decays over time."
   ]
  },
  {
   "cell_type": "code",
   "execution_count": 9,
   "metadata": {
    "colab": {},
    "colab_type": "code",
    "id": "XKIXlcQSqsMN"
   },
   "outputs": [],
   "source": [
    "class ActorCriticAgent():\n",
    "    # Initializing the agent and the model for selecting actions\n",
    "    def __init__(self, env, network=TFACNetwork):\n",
    "        # The number of state values in the state vector\n",
    "        state_size = np.prod(env.observation_space.shape)\n",
    "        # The number of action indices to select from\n",
    "        action_size = np.prod(env.action_space.shape)\n",
    "        # The continuous range of the actions\n",
    "        action_range = [env.action_space.low, env.action_space.high]\n",
    "        # Defining the q network to use for modeling the Bellman equation\n",
    "        self.q_network = network(state_size, action_size, action_range)\n",
    "        # Defining the replay buffer for experience replay\n",
    "        self.replay_buffer = ReplayBuffer(100000)\n",
    "        # Initializing the epsilon value to 1.0 for initial exploration\n",
    "        self.noise_process = OUNoise(action_size, action_range[1]-action_range[0])\n",
    "        \n",
    "    # Function for getting an action to take in the given state\n",
    "    def get_action(self, state):\n",
    "        # Get the action from the network and add noise to it\n",
    "        return self.q_network.get_action([state])[0] + self.noise_process.sample()\n",
    "        \n",
    "    # Function for training the agent at each time step\n",
    "    def train(self, state, action, next_state, reward, done, batch_size=100):\n",
    "        # First add the experience to the replay buffer\n",
    "        self.replay_buffer.add((state, action, next_state, reward, done))\n",
    "        # Sample a batch of each experience type from the replay buffer\n",
    "        states, actions, next_states, rewards, dones = self.replay_buffer.sample(batch_size)\n",
    "        # Train the model with the q target\n",
    "        self.q_network.update_model(states, actions, next_states, rewards, dones)\n",
    "        # Decrease epsilon after each episode\n",
    "        if done: self.noise_process.reset()"
   ]
  },
  {
   "cell_type": "markdown",
   "metadata": {},
   "source": [
    "#### Training\n",
    "Below is the training loop for training the agent through a number of episodes of interacting with the environment. It keeps track of the total reward from each episode and also stores the last 100 episode rewards for calculating the average reward for checking when the environment was solved."
   ]
  },
  {
   "cell_type": "code",
   "execution_count": 15,
   "metadata": {
    "colab": {
     "base_uri": "https://localhost:8080/",
     "height": 3434
    },
    "colab_type": "code",
    "id": "zv9Amjj4qsMQ",
    "outputId": "92eeb722-4e00-4c1b-bd4d-63aa795954f1"
   },
   "outputs": [
    {
     "name": "stdout",
     "output_type": "stream",
     "text": [
      "Episode: 0, Score: -1546.5483842697358, Avg reward: -1546.55\n",
      "Episode: 1, Score: -1286.9720393283922, Avg reward: -1416.76\n",
      "Episode: 2, Score: -1261.6922005796862, Avg reward: -1365.07\n",
      "Episode: 3, Score: -1797.393411284232, Avg reward: -1473.15\n",
      "Episode: 4, Score: -1902.7486798548484, Avg reward: -1559.07\n",
      "Episode: 5, Score: -1892.7630286312149, Avg reward: -1614.69\n",
      "Episode: 6, Score: -1800.62212022444, Avg reward: -1641.25\n",
      "Episode: 7, Score: -1814.6209496227882, Avg reward: -1662.92\n",
      "Episode: 8, Score: -1497.705656475965, Avg reward: -1644.56\n",
      "Episode: 9, Score: -1478.5342697630344, Avg reward: -1627.96\n",
      "Episode: 10, Score: -1526.6375515321818, Avg reward: -1618.75\n",
      "Episode: 11, Score: -1398.170535876534, Avg reward: -1600.37\n",
      "Episode: 12, Score: -1356.9298570961143, Avg reward: -1581.64\n",
      "Episode: 13, Score: -1160.8131515031794, Avg reward: -1551.58\n",
      "Episode: 14, Score: -1302.9492012144838, Avg reward: -1535.01\n",
      "Episode: 15, Score: -1350.8417609896812, Avg reward: -1523.50\n",
      "Episode: 16, Score: -1512.460515734979, Avg reward: -1522.85\n",
      "Episode: 17, Score: -1496.116010107917, Avg reward: -1521.36\n",
      "Episode: 18, Score: -1536.1550688676869, Avg reward: -1522.14\n",
      "Episode: 19, Score: -1362.7339532071544, Avg reward: -1514.17\n",
      "Episode: 20, Score: -1233.1772891727537, Avg reward: -1500.79\n",
      "Episode: 21, Score: -1502.0365317843093, Avg reward: -1500.85\n",
      "Episode: 22, Score: -1366.501207561191, Avg reward: -1495.01\n",
      "Episode: 23, Score: -1352.6625750659778, Avg reward: -1489.07\n",
      "Episode: 24, Score: -1399.8731095351598, Avg reward: -1485.51\n",
      "Episode: 25, Score: -1130.3550404467028, Avg reward: -1471.85\n",
      "Episode: 26, Score: -1403.0527983187123, Avg reward: -1469.30\n",
      "Episode: 27, Score: -1290.4160958922052, Avg reward: -1462.91\n",
      "Episode: 28, Score: -1362.4345549036232, Avg reward: -1459.45\n",
      "Episode: 29, Score: -1202.5926747493636, Avg reward: -1450.88\n",
      "Episode: 30, Score: -1467.4385769606272, Avg reward: -1451.42\n",
      "Episode: 31, Score: -1325.2360802059843, Avg reward: -1447.47\n",
      "Episode: 32, Score: -1357.9775957373938, Avg reward: -1444.76\n",
      "Episode: 33, Score: -1208.1730374079837, Avg reward: -1437.80\n",
      "Episode: 34, Score: -1342.0617921603828, Avg reward: -1435.07\n",
      "Episode: 35, Score: -1205.139497452969, Avg reward: -1428.68\n",
      "Episode: 36, Score: -1339.2840439980232, Avg reward: -1426.27\n",
      "Episode: 37, Score: -1356.7046779347008, Avg reward: -1424.43\n",
      "Episode: 38, Score: -1326.849483841232, Avg reward: -1421.93\n",
      "Episode: 39, Score: -1339.5406455148134, Avg reward: -1419.87\n",
      "Episode: 40, Score: -1294.4348846247592, Avg reward: -1416.81\n",
      "Episode: 41, Score: -764.5559799170329, Avg reward: -1401.28\n",
      "Episode: 42, Score: -1337.4684925630652, Avg reward: -1399.80\n",
      "Episode: 43, Score: -1432.7927782878833, Avg reward: -1400.55\n",
      "Episode: 44, Score: -668.2954821528673, Avg reward: -1384.28\n",
      "Episode: 45, Score: -1455.58487673257, Avg reward: -1385.83\n",
      "Episode: 46, Score: -1364.0986432946315, Avg reward: -1385.36\n",
      "Episode: 47, Score: -1324.1658196415758, Avg reward: -1384.09\n",
      "Episode: 48, Score: -1349.8667718724187, Avg reward: -1383.39\n",
      "Episode: 49, Score: -1309.9757785349964, Avg reward: -1381.92\n",
      "Episode: 50, Score: -844.2551010277248, Avg reward: -1371.38\n",
      "Episode: 51, Score: -766.4845505226044, Avg reward: -1359.75\n",
      "Episode: 52, Score: -1227.0941177202535, Avg reward: -1357.25\n",
      "Episode: 53, Score: -1243.0580840250352, Avg reward: -1355.13\n",
      "Episode: 54, Score: -1331.1978761538815, Avg reward: -1354.70\n",
      "Episode: 55, Score: -1303.4353374674588, Avg reward: -1353.78\n",
      "Episode: 56, Score: -983.3113350146865, Avg reward: -1347.28\n",
      "Episode: 57, Score: -980.3495342082309, Avg reward: -1340.95\n",
      "Episode: 58, Score: -1343.373508889935, Avg reward: -1341.00\n",
      "Episode: 59, Score: -1354.6039185634916, Avg reward: -1341.22\n",
      "Episode: 60, Score: -910.0771176903162, Avg reward: -1334.15\n",
      "Episode: 61, Score: -1023.7411928020031, Avg reward: -1329.15\n",
      "Episode: 62, Score: -917.3916615610243, Avg reward: -1322.61\n",
      "Episode: 63, Score: -1341.5893407886415, Avg reward: -1322.91\n",
      "Episode: 64, Score: -1017.7482636260602, Avg reward: -1318.21\n",
      "Episode: 65, Score: -999.5990454127574, Avg reward: -1313.39\n",
      "Episode: 66, Score: -1149.3731797262617, Avg reward: -1310.94\n",
      "Episode: 67, Score: -912.4192466818915, Avg reward: -1305.08\n",
      "Episode: 68, Score: -915.6943556260119, Avg reward: -1299.43\n",
      "Episode: 69, Score: -897.7760129574312, Avg reward: -1293.70\n",
      "Episode: 70, Score: -872.4407893698537, Avg reward: -1287.76\n",
      "Episode: 71, Score: -776.6831101724042, Avg reward: -1280.66\n",
      "Episode: 72, Score: -793.1013210417462, Avg reward: -1273.99\n",
      "Episode: 73, Score: -753.7165148898181, Avg reward: -1266.95\n",
      "Episode: 74, Score: -646.8196699919205, Avg reward: -1258.69\n",
      "Episode: 75, Score: -519.8054481353652, Avg reward: -1248.96\n",
      "Episode: 76, Score: -388.71620032828326, Avg reward: -1237.79\n",
      "Episode: 77, Score: -505.2569839930923, Avg reward: -1228.40\n",
      "Episode: 78, Score: -627.1917689046783, Avg reward: -1220.79\n",
      "Episode: 79, Score: -4.279273448313945, Avg reward: -1205.58\n",
      "Episode: 80, Score: -745.896852149167, Avg reward: -1199.91\n",
      "Episode: 81, Score: -768.0065071755862, Avg reward: -1194.64\n",
      "Episode: 82, Score: -780.903778752193, Avg reward: -1189.66\n",
      "Episode: 83, Score: -897.4364041257599, Avg reward: -1186.18\n",
      "Episode: 84, Score: -899.3518788739563, Avg reward: -1182.80\n",
      "Episode: 85, Score: -1472.695836571055, Avg reward: -1186.17\n",
      "Episode: 86, Score: -1028.3106975152734, Avg reward: -1184.36\n",
      "Episode: 87, Score: -1019.4408542481326, Avg reward: -1182.49\n",
      "Episode: 88, Score: -1020.9305623054909, Avg reward: -1180.67\n",
      "Episode: 89, Score: -1018.6375815231575, Avg reward: -1178.87\n",
      "Episode: 90, Score: -1019.2297246210645, Avg reward: -1177.12\n",
      "Episode: 91, Score: -963.9458371128756, Avg reward: -1174.80\n",
      "Episode: 92, Score: -987.4005689667143, Avg reward: -1172.78\n",
      "Episode: 93, Score: -988.9139369358686, Avg reward: -1170.83\n",
      "Episode: 94, Score: -889.5149181294062, Avg reward: -1167.87\n",
      "Episode: 95, Score: -765.9145038026219, Avg reward: -1163.68\n",
      "Episode: 96, Score: -1067.8538212976712, Avg reward: -1162.69\n",
      "Episode: 97, Score: -1067.5849397328452, Avg reward: -1161.72\n",
      "Episode: 98, Score: -1003.1425765476558, Avg reward: -1160.12\n",
      "Episode: 99, Score: -1027.6524415592933, Avg reward: -1158.80\n",
      "Episode: 100, Score: -1062.899805577271, Avg reward: -1153.96\n",
      "Episode: 101, Score: -1096.1462813058233, Avg reward: -1152.05\n",
      "Episode: 102, Score: -1226.0848798079799, Avg reward: -1151.69\n",
      "Episode: 103, Score: -1026.7153748944395, Avg reward: -1143.99\n",
      "Episode: 104, Score: -1070.854447438272, Avg reward: -1135.67\n",
      "Episode: 105, Score: -1090.6295765359241, Avg reward: -1127.65\n",
      "Episode: 106, Score: -1067.2970311509305, Avg reward: -1120.31\n",
      "Episode: 107, Score: -971.5300109606974, Avg reward: -1111.88\n",
      "Episode: 108, Score: -892.8990591900539, Avg reward: -1105.83\n",
      "Episode: 109, Score: -638.3313986737195, Avg reward: -1097.43\n",
      "Episode: 110, Score: -851.9891218034612, Avg reward: -1090.69\n",
      "Episode: 111, Score: -857.8508800161794, Avg reward: -1085.28\n",
      "Episode: 112, Score: -747.3936296357141, Avg reward: -1079.19\n",
      "Episode: 113, Score: -844.405700636038, Avg reward: -1076.02\n",
      "Episode: 114, Score: -881.3291616399185, Avg reward: -1071.81\n",
      "Episode: 115, Score: -634.4381513864153, Avg reward: -1064.64\n",
      "Episode: 116, Score: -1054.666027479188, Avg reward: -1060.07\n",
      "Episode: 117, Score: -602.3271542115244, Avg reward: -1051.13\n",
      "Episode: 118, Score: -506.6630737966598, Avg reward: -1040.83\n",
      "Episode: 119, Score: -492.93620231904816, Avg reward: -1032.13\n",
      "Episode: 120, Score: -374.23255371017353, Avg reward: -1023.55\n",
      "Episode: 121, Score: -127.35696904775999, Avg reward: -1009.80\n",
      "Episode: 122, Score: -248.05962984554307, Avg reward: -998.61\n",
      "Episode: 123, Score: -122.35530526309684, Avg reward: -986.31\n",
      "Episode: 124, Score: -890.6853603116876, Avg reward: -981.22\n",
      "Episode: 125, Score: -239.053372796053, Avg reward: -972.31\n",
      "Episode: 126, Score: -354.3285535099007, Avg reward: -961.82\n",
      "Episode: 127, Score: -440.3240307919672, Avg reward: -953.32\n",
      "Episode: 128, Score: -248.046872175912, Avg reward: -942.17\n",
      "Episode: 129, Score: -0.7517654678513027, Avg reward: -930.16\n",
      "Episode: 130, Score: -240.52205723571336, Avg reward: -917.89\n",
      "Episode: 131, Score: -0.5433903716681199, Avg reward: -904.64\n",
      "Episode: 132, Score: -361.36564624397056, Avg reward: -894.67\n",
      "Episode: 133, Score: -226.46457786689862, Avg reward: -884.86\n"
     ]
    },
    {
     "name": "stdout",
     "output_type": "stream",
     "text": [
      "Episode: 134, Score: -117.89551883227588, Avg reward: -872.61\n",
      "Episode: 135, Score: -126.12865093474907, Avg reward: -861.82\n",
      "Episode: 136, Score: -123.8423334555315, Avg reward: -849.67\n",
      "Episode: 137, Score: -1.7664710158687005, Avg reward: -836.12\n",
      "Episode: 138, Score: -232.69376297255994, Avg reward: -825.18\n",
      "Episode: 139, Score: -365.57385428318247, Avg reward: -815.44\n",
      "Episode: 140, Score: -373.7173911720495, Avg reward: -806.23\n",
      "Episode: 141, Score: -125.39754072373037, Avg reward: -799.84\n",
      "Episode: 142, Score: -380.30702883661456, Avg reward: -790.27\n",
      "Episode: 143, Score: -363.67616673669977, Avg reward: -779.58\n",
      "Episode: 144, Score: -360.3557793808539, Avg reward: -776.50\n",
      "Episode: 145, Score: -451.94110892316144, Avg reward: -766.46\n",
      "Episode: 146, Score: -131.75783159185698, Avg reward: -754.14\n",
      "Episode: 147, Score: -128.27774020978896, Avg reward: -742.18\n",
      "Episode: 148, Score: -245.66561550207985, Avg reward: -731.14\n",
      "Episode: 149, Score: -123.98247301687626, Avg reward: -719.28\n",
      "Episode: 150, Score: -247.12870422734787, Avg reward: -713.31\n",
      "Episode: 151, Score: -126.05667713232435, Avg reward: -706.90\n",
      "Episode: 152, Score: -245.10080481239686, Avg reward: -697.08\n",
      "Episode: 153, Score: -357.39306661285525, Avg reward: -688.23\n",
      "Episode: 154, Score: -491.77582999173103, Avg reward: -679.83\n",
      "Episode: 155, Score: -239.00202234695448, Avg reward: -669.19\n",
      "Episode: 156, Score: -0.5520212028463567, Avg reward: -659.36\n",
      "Episode: 157, Score: -126.80770242069411, Avg reward: -650.82\n",
      "Episode: 158, Score: -241.14974008689796, Avg reward: -639.80\n",
      "Episode: 159, Score: -349.63283681617395, Avg reward: -629.75\n",
      "Episode: 160, Score: -125.8042202467859, Avg reward: -621.91\n",
      "Episode: 161, Score: -127.59586003311762, Avg reward: -612.95\n",
      "Episode: 162, Score: -249.60086395873705, Avg reward: -606.27\n",
      "Episode: 163, Score: -126.4105484630258, Avg reward: -594.12\n",
      "Episode: 164, Score: -242.04481690548158, Avg reward: -586.36\n",
      "Episode: 165, Score: -359.9464906892134, Avg reward: -579.96\n",
      "Episode: 166, Score: -123.9566583767096, Avg reward: -569.71\n",
      "Episode: 167, Score: -128.24336854246775, Avg reward: -561.87\n",
      "Episode: 168, Score: -375.7758812659241, Avg reward: -556.47\n",
      "Episode: 169, Score: -129.64562567352354, Avg reward: -548.79\n",
      "Episode: 170, Score: -363.3798746087043, Avg reward: -543.70\n",
      "Episode: 171, Score: -250.36806022065534, Avg reward: -538.43\n",
      "Episode: 172, Score: -3.3191309244854432, Avg reward: -530.54\n",
      "Episode: 173, Score: -128.94667466522523, Avg reward: -524.29\n",
      "Episode: 174, Score: -129.01616638474388, Avg reward: -519.11\n",
      "Episode: 175, Score: -1.485886576086483, Avg reward: -513.93\n",
      "Episode: 176, Score: -127.49129056914289, Avg reward: -511.32\n",
      "Episode: 177, Score: -128.71656892623608, Avg reward: -507.55\n",
      "Episode: 178, Score: -125.60263845032618, Avg reward: -502.53\n",
      "Episode: 179, Score: -251.54471173534037, Avg reward: -505.01\n",
      "Episode: 180, Score: -125.04349272311272, Avg reward: -498.80\n",
      "Episode: 181, Score: -125.81700534440178, Avg reward: -492.38\n",
      "Episode: 182, Score: -356.79447444062384, Avg reward: -488.14\n",
      "Episode: 183, Score: -362.19712008886694, Avg reward: -482.78\n",
      "Episode: 184, Score: -125.9672071662607, Avg reward: -475.05\n",
      "Episode: 185, Score: -128.56317905650266, Avg reward: -461.61\n",
      "Episode: 186, Score: -237.91739741423447, Avg reward: -453.70\n",
      "Episode: 187, Score: -2.95196326562149, Avg reward: -443.54\n",
      "Episode: 188, Score: -387.45034612325463, Avg reward: -437.20\n",
      "Episode: 189, Score: -389.35683600103044, Avg reward: -430.91\n",
      "Episode: 190, Score: -127.59791283883632, Avg reward: -422.00\n",
      "Episode: 191, Score: -124.27017446697326, Avg reward: -413.60\n",
      "Episode: 192, Score: -121.94045434694405, Avg reward: -404.94\n",
      "Episode: 193, Score: -127.6442521538705, Avg reward: -396.33\n",
      "Episode: 194, Score: -357.7364336900798, Avg reward: -391.01\n",
      "Episode: 195, Score: -244.6487911337778, Avg reward: -385.80\n",
      "Episode: 196, Score: -127.7381543441927, Avg reward: -376.40\n",
      "Episode: 197, Score: -127.67103261348532, Avg reward: -367.00\n",
      "Episode: 198, Score: -374.4201080584935, Avg reward: -360.71\n",
      "Episode: 199, Score: -404.7064063565095, Avg reward: -354.48\n"
     ]
    }
   ],
   "source": [
    "# Create an agent instance\n",
    "agent = ActorCriticAgent(env, network=PTACNetwork)\n",
    "# Define number of episodes to train for\n",
    "num_episodes = 200\n",
    "# Create a buffer for calculating the last 100 episode average reward\n",
    "scores_buffer = deque(maxlen=100)\n",
    "# List to store each episode's total reward\n",
    "scores = []\n",
    "# List to store the average reward after each episode\n",
    "avg_scores = []\n",
    "\n",
    "# Run the training loop\n",
    "for ep in range(num_episodes):\n",
    "    # Save the initial state\n",
    "    state = env.reset()\n",
    "    # Reset the total reward\n",
    "    total_reward = 0\n",
    "    # Reset the episode terminal condition\n",
    "    done = False\n",
    "    while not done:\n",
    "        # Query the agent for an action to take in the state\n",
    "        action = agent.get_action(state)\n",
    "        # Take the action in the environment\n",
    "        next_state, reward, done, info = env.step(action)\n",
    "        # Train the agent with the new time step experience\n",
    "        agent.train(state, action, next_state, reward, int(done))\n",
    "        # Update the episode's total reward\n",
    "        total_reward += reward             \n",
    "        # Update the current state\n",
    "        state = next_state \n",
    "\n",
    "    # Store the last episode's total reward\n",
    "    scores.append(total_reward)\n",
    "    # Add the total reward to the buffer for calculating average reward\n",
    "    scores_buffer.append(total_reward)\n",
    "    # Store the new average reward\n",
    "    avg_scores.append(np.mean(scores_buffer))\n",
    "    print(\"Episode: {}, Score: {}, Avg reward: {:.2f}\".format(ep, scores[ep], avg_scores[ep]))"
   ]
  },
  {
   "cell_type": "code",
   "execution_count": 16,
   "metadata": {
    "colab": {},
    "colab_type": "code",
    "id": "JU1OmrO0uHpO"
   },
   "outputs": [
    {
     "data": {
      "text/plain": [
       "<matplotlib.legend.Legend at 0xb2f146128>"
      ]
     },
     "execution_count": 16,
     "metadata": {},
     "output_type": "execute_result"
    },
    {
     "data": {
      "image/png": "[encoded data removed]",
      "text/plain": [
       "<Figure size 432x288 with 1 Axes>"
      ]
     },
     "metadata": {},
     "output_type": "display_data"
    }
   ],
   "source": [
    "import matplotlib.pyplot as plt\n",
    "%matplotlib inline\n",
    "\n",
    "x = range(len(scores))\n",
    "plt.plot(x, scores, label=\"Scores\")\n",
    "plt.plot(x, avg_scores, label=\"Avg Score\")\n",
    "plt.title(\"Scores\")\n",
    "plt.xlabel(\"Episode\")\n",
    "plt.ylabel(\"Score\")\n",
    "plt.legend()"
   ]
  },
  {
   "cell_type": "code",
   "execution_count": 14,
   "metadata": {
    "colab": {},
    "colab_type": "code",
    "id": "_UBHQMHzqsMU"
   },
   "outputs": [],
   "source": [
    "env.close()"
   ]
  }
 ],
 "metadata": {
  "colab": {
   "name": "DiscretizedDQNsForContinuousControl.ipynb",
   "provenance": [],
   "version": "0.3.2"
  },
  "kernelspec": {
   "display_name": "Python 3",
   "language": "python",
   "name": "python3"
  }
 },
 "nbformat": 4,
 "nbformat_minor": 1
}
